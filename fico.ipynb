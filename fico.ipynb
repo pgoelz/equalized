{
 "cells": [
  {
   "cell_type": "code",
   "execution_count": 1,
   "metadata": {},
   "outputs": [],
   "source": [
    "from itertools import product\n",
    "from math import inf\n",
    "\n",
    "from gurobipy import *\n",
    "import matplotlib.pyplot as plt\n",
    "import pandas as pd\n",
    "import seaborn as sns\n",
    "\n",
    "from implementation import *"
   ]
  },
  {
   "cell_type": "code",
   "execution_count": 2,
   "metadata": {},
   "outputs": [],
   "source": [
    "sns.set_context(\"notebook\", font_scale=1.25, rc={\"lines.linewidth\": 1.8})\n",
    "blue=\"#3F51B5\"; green=\"#43A047\"; orange=\"#FF9800\"\n",
    "sns.set_palette(sns.color_palette([blue, green, orange]))\n",
    "plt.rc('font', **{'family': 'serif', 'serif': ['CMU Serif', 'computer modern']})\n",
    "plt.rc('text', usetex=True)"
   ]
  },
  {
   "cell_type": "code",
   "execution_count": 3,
   "metadata": {},
   "outputs": [
    {
     "name": "stdout",
     "output_type": "stream",
     "text": [
      "Academic license - for non-commercial use only\n"
     ]
    }
   ],
   "source": [
    "setParam(\"OutputFlag\", False)\n",
    "EPS = 0.0001"
   ]
  },
  {
   "cell_type": "markdown",
   "metadata": {},
   "source": [
    "To replicate the results, the three csv files at https://github.com/fairmlbook/fairmlbook.github.io/tree/master/code/creditscore/data must be downloaded as `transrisk_performance_by_race_ssa.csv`, `totals.csv`, and `transrisk_cdf_by_race_ssa.csv` in the same directory."
   ]
  },
  {
   "cell_type": "code",
   "execution_count": 4,
   "metadata": {},
   "outputs": [],
   "source": [
    "def cleanup_frame(frame):\n",
    "    \"\"\"Rename and re-order columns\"\"\"\n",
    "    # (c) Moritz Hardt, https://github.com/fairmlbook/fairmlbook.github.io/blob/master/code/creditscore/creditscore.ipynb\n",
    "    frame = frame.rename(columns={'Non- Hispanic white': 'White'})\n",
    "    frame = frame.reindex(['Asian', 'Black', 'Hispanic', 'White'], axis=1)\n",
    "    return frame"
   ]
  },
  {
   "cell_type": "code",
   "execution_count": 5,
   "metadata": {},
   "outputs": [],
   "source": [
    "risk = cleanup_frame(pd.read_csv(\"transrisk_performance_by_race_ssa.csv\"))\n",
    "totals = cleanup_frame(pd.read_csv(\"totals.csv\"))\n",
    "cdf = cleanup_frame(pd.read_csv(\"transrisk_cdf_by_race_ssa.csv\"))"
   ]
  },
  {
   "cell_type": "code",
   "execution_count": 6,
   "metadata": {},
   "outputs": [
    {
     "data": {
      "text/plain": [
       "174047"
      ]
     },
     "execution_count": 6,
     "metadata": {},
     "output_type": "execute_result"
    }
   ],
   "source": [
    "N = sum(totals[race][0] for race in totals.columns)\n",
    "N"
   ]
  },
  {
   "cell_type": "code",
   "execution_count": 7,
   "metadata": {},
   "outputs": [],
   "source": [
    "buckets_by_group = []\n",
    "for race in risk.columns:\n",
    "    tot = totals[race][0]\n",
    "    buckets = []\n",
    "    old_cd = 0\n",
    "    for default_percent, cd in zip(risk[race], cdf[race]):\n",
    "        buckets.append((1 - float(default_percent)/100, int(cd * tot / 100) - int(old_cd * tot / 100))) #(cd - old_cd) / 100 * tot))\n",
    "        old_cd = cd\n",
    "    buckets = [(b1, b2) for b1, b2 in buckets if b2 > 0]\n",
    "    buckets.sort(reverse=True)\n",
    "    buckets_by_group.append(buckets)"
   ]
  },
  {
   "cell_type": "code",
   "execution_count": 8,
   "metadata": {},
   "outputs": [],
   "source": [
    "def _setup_constraints(classifications, cardinality):\n",
    "    num_groups = len(classifications)\n",
    "    \n",
    "    m = Model()\n",
    "\n",
    "    allocations = [[] for _ in range(num_groups)]\n",
    "    allocation_sum = 0\n",
    "    will_pay_back = [0 for _ in range(num_groups)]\n",
    "    wont_pay_back = [0 for _ in range(num_groups)]\n",
    "    will_pay_back_and_received = [0 for _ in range(num_groups)]\n",
    "    wont_pay_back_and_received = [0 for _ in range(num_groups)]\n",
    "\n",
    "    for group in range(num_groups):\n",
    "        for prob, group_size in classifications[group]:\n",
    "            var = m.addVar(ub=group_size)\n",
    "            allocation_sum += var\n",
    "            allocations[group].append((prob, var))\n",
    "            will_pay_back[group] += group_size * prob\n",
    "            wont_pay_back[group] += group_size * (1 - prob)\n",
    "            will_pay_back_and_received[group] += var * prob\n",
    "            wont_pay_back_and_received[group] += var * (1 - prob)\n",
    "\n",
    "    m.addConstr(allocation_sum == cardinality)\n",
    "\n",
    "    for group in range(num_groups):\n",
    "        m.addConstr(will_pay_back_and_received[0] * will_pay_back[group] == will_pay_back_and_received[group] * will_pay_back[0])\n",
    "        m.addConstr(wont_pay_back_and_received[0] * wont_pay_back[group] == wont_pay_back_and_received[group] * wont_pay_back[0])\n",
    "\n",
    "    return m, allocations, will_pay_back_and_received\n",
    "\n",
    "\n",
    "def maximize_efficiency_given_necessary_popmonotonicity(classifications, cardinality):\n",
    "    m, allocations, will_pay_back_and_received = _setup_constraints(classifications, cardinality)\n",
    "    \n",
    "    num_groups = len(classifications)\n",
    "    group_sizes = [sum(group_size for _, group_size in clf) for clf in classifications]\n",
    "    for group in range(num_groups):\n",
    "        for (prob, group_size), (prob2, var) in zip(classifications[group], allocations[group]):\n",
    "            assert prob == prob2\n",
    "            agents_after_removal = group_size + sum(group_sizes[:group]) + sum(group_sizes[group+1:])\n",
    "            m.addConstr(var * agents_after_removal <= cardinality * group_size)\n",
    "            # var / group_size <= cardinality / agents_after_removal\n",
    "    \n",
    "    m.setObjective(sum(will_pay_back_and_received), GRB.MAXIMIZE)\n",
    "    m.optimize()\n",
    "    assert m.status == 2\n",
    "    return m"
   ]
  },
  {
   "cell_type": "code",
   "execution_count": 9,
   "metadata": {
    "scrolled": true
   },
   "outputs": [],
   "source": [
    "data_pop = []\n",
    "for k in range(1, int(N + 1), 10):\n",
    "    unfair_eff = optimal_nonfair_efficiency(k, buckets_by_group)\n",
    "    eff = sum(get_pos(alloc) for alloc in find_opt_fair(k, buckets_by_group))\n",
    "    datum = {\"$k$\": k, \"efficiency\": eff, \"efficiency fraction of unfair\": eff / unfair_eff, \"algorithm\": \"equalized odds\"}\n",
    "    data_pop.append(datum)\n",
    "    eff = maximize_efficiency_given_necessary_popmonotonicity(buckets_by_group, k).objVal\n",
    "    datum = {\"$k$\": k, \"efficiency\": eff, \"efficiency fraction of unfair\": eff / unfair_eff, \"algorithm\": \"upper bound\"}\n",
    "    data_pop.append(datum)\n",
    "    eff = k / N * sum(get_pos(bucket) for bucket in buckets_by_group)\n",
    "    datum = {\"$k$\": k, \"efficiency\": eff, \"efficiency fraction of unfair\": eff / unfair_eff, \"algorithm\": \"uniform\"}\n",
    "    data_pop.append(datum)"
   ]
  },
  {
   "cell_type": "code",
   "execution_count": 10,
   "metadata": {},
   "outputs": [
    {
     "data": {
      "image/png": "[encoded data removed]",
      "text/plain": [
       "<Figure size 711.269x360 with 1 Axes>"
      ]
     },
     "metadata": {},
     "output_type": "display_data"
    }
   ],
   "source": [
    "df_pop = pd.DataFrame(data_pop)\n",
    "f = sns.relplot(data=df_pop[-(df_pop[\"algorithm\"].isin([\"no fairness\"]))], x=\"$k$\", y=\"efficiency fraction of unfair\", hue=\"algorithm\", kind=\"line\", aspect=1.6)\n",
    "f.savefig(\"efficiency_ratios.pdf\")"
   ]
  }
 ],
 "metadata": {
  "kernelspec": {
   "display_name": "Python 3",
   "language": "python",
   "name": "python3"
  },
  "language_info": {
   "codemirror_mode": {
    "name": "ipython",
    "version": 3
   },
   "file_extension": ".py",
   "mimetype": "text/x-python",
   "name": "python",
   "nbconvert_exporter": "python",
   "pygments_lexer": "ipython3",
   "version": "3.6.6rc1"
  }
 },
 "nbformat": 4,
 "nbformat_minor": 2
}
